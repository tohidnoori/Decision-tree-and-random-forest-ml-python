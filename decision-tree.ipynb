{
 "cells": [
  {
   "cell_type": "code",
   "execution_count": 1,
   "metadata": {},
   "outputs": [],
   "source": [
    "import numpy as np\n",
    "import pandas as pd\n",
    "from sklearn.preprocessing import LabelEncoder\n",
    "from sklearn.model_selection import train_test_split\n",
    "\n",
    "from sklearn.metrics import confusion_matrix # this creates a confusion matrix\n",
    "from sklearn.metrics import precision_score, accuracy_score, recall_score\n",
    "from sklearn.metrics import confusion_matrix,ConfusionMatrixDisplay"
   ]
  },
  {
   "cell_type": "code",
   "execution_count": 2,
   "metadata": {
    "collapsed": false,
    "jupyter": {
     "outputs_hidden": false
    },
    "pycharm": {
     "name": "#%%\n"
    }
   },
   "outputs": [
    {
     "data": {
      "text/html": [
       "<div>\n",
       "<style scoped>\n",
       "    .dataframe tbody tr th:only-of-type {\n",
       "        vertical-align: middle;\n",
       "    }\n",
       "\n",
       "    .dataframe tbody tr th {\n",
       "        vertical-align: top;\n",
       "    }\n",
       "\n",
       "    .dataframe thead th {\n",
       "        text-align: right;\n",
       "    }\n",
       "</style>\n",
       "<table border=\"1\" class=\"dataframe\">\n",
       "  <thead>\n",
       "    <tr style=\"text-align: right;\">\n",
       "      <th></th>\n",
       "      <th>sepal_length</th>\n",
       "      <th>sepal_width</th>\n",
       "      <th>petal_length</th>\n",
       "      <th>petal_width</th>\n",
       "      <th>type</th>\n",
       "    </tr>\n",
       "  </thead>\n",
       "  <tbody>\n",
       "    <tr>\n",
       "      <th>0</th>\n",
       "      <td>5.1</td>\n",
       "      <td>3.5</td>\n",
       "      <td>1.4</td>\n",
       "      <td>0.2</td>\n",
       "      <td>Setosa</td>\n",
       "    </tr>\n",
       "  </tbody>\n",
       "</table>\n",
       "</div>"
      ],
      "text/plain": [
       "   sepal_length  sepal_width  petal_length  petal_width    type\n",
       "0           5.1          3.5           1.4          0.2  Setosa"
      ]
     },
     "execution_count": 2,
     "metadata": {},
     "output_type": "execute_result"
    }
   ],
   "source": [
    "col_names = [\"sepal_length\", \"sepal_width\", \"petal_length\", \"petal_width\", \"type\"]\n",
    "dataset = pd.read_csv(\"iris.csv\", skiprows=1, names=col_names, header=None)\n",
    "dataset.head(1)"
   ]
  },
  {
   "cell_type": "code",
   "execution_count": 3,
   "metadata": {
    "collapsed": false,
    "jupyter": {
     "outputs_hidden": false
    },
    "pycharm": {
     "name": "#%%\n"
    }
   },
   "outputs": [
    {
     "name": "stdout",
     "output_type": "stream",
     "text": [
      "[0 1 2]\n"
     ]
    }
   ],
   "source": [
    "##Giving numbers to different types\n",
    "types = dataset['type']\n",
    "\n",
    "label_encoder = LabelEncoder()\n",
    "# Fit and transform the 'type' column\n",
    "encoded_types = label_encoder.fit_transform(types)\n",
    "\n",
    "# Replace the original 'type' column with the encoded values\n",
    "dataset['type'] = encoded_types\n",
    "\n",
    "print(dataset['type'].unique())"
   ]
  },
  {
   "cell_type": "code",
   "execution_count": 4,
   "metadata": {
    "collapsed": false,
    "jupyter": {
     "outputs_hidden": false
    },
    "pycharm": {
     "name": "#%%\n"
    }
   },
   "outputs": [],
   "source": [
    "X =dataset.iloc[:,: -1]\n",
    "y = dataset.iloc[:,-1]\n",
    "X_train,X_test,y_train,y_test = train_test_split(X,y,random_state=43)"
   ]
  },
  {
   "cell_type": "code",
   "execution_count": 22,
   "metadata": {
    "collapsed": false,
    "jupyter": {
     "outputs_hidden": false
    },
    "pycharm": {
     "name": "#%%\n"
    }
   },
   "outputs": [],
   "source": [
    "import numpy as np\n",
    "import pandas as pd\n",
    "import time\n",
    "\n",
    "\n",
    "##TREE NODE\n",
    "\n",
    "class Node:\n",
    "    def __init__(self, feature_index=None, threshold=None, left=None, right=None, info_gain=None, value=None):\n",
    "        self.feature_index = feature_index\n",
    "        self.threshold = threshold\n",
    "        self.left = left\n",
    "        self.right = right\n",
    "        self.info_gain = info_gain\n",
    "        self.value = value\n",
    "\n",
    "\n",
    "class DecisionTreeClassifier:\n",
    "    def __init__(self, minimum_samples_split=2, max_depth=2):\n",
    "        self.root = None\n",
    "\n",
    "        self.minimum_samples_split = minimum_samples_split\n",
    "        self.max_depth = max_depth\n",
    "\n",
    "    def __build_tree(self, ds, curr_depth=0):\n",
    "        x_data, y_data = ds.iloc[:, :-1], ds.iloc[:, -1]\n",
    "        num_samples, num_features = np.shape(x_data)\n",
    "\n",
    "        if num_samples >= self.minimum_samples_split and curr_depth <= self.max_depth:\n",
    "\n",
    "            splitted_data = self.__get_best_split(ds, num_samples, num_features)\n",
    "\n",
    "            if splitted_data[\"info_gain\"] > 0:\n",
    "                print(\"x\"+splitted_data['feature_index'].__str__()+\" \"+splitted_data[\"threshold\"].__str__())\n",
    "                left_sub_tree = self.__build_tree(splitted_data['dataset_left'], curr_depth + 1)\n",
    "                right_sub_tree = self.__build_tree(splitted_data['dataset_right'], curr_depth + 1)\n",
    "\n",
    "                return Node(splitted_data['feature_index'], splitted_data['threshold'], left_sub_tree, right_sub_tree,\n",
    "                            splitted_data['info_gain'], )\n",
    "        leaf_value = self.__calculate_leaf_node(y_data)\n",
    "        return Node(value=leaf_value)\n",
    "            \n",
    "\n",
    "    def __get_best_split(self, ds, num_samples, num_features):\n",
    "\n",
    "        max_info_gain = -float(\"inf\")\n",
    "        best_split = {}\n",
    "\n",
    "        for feature_index in range(num_features):\n",
    "            feature_values = ds.iloc[:, feature_index]\n",
    "            possible_thresholds = np.unique(feature_values)\n",
    "            for threshold in possible_thresholds:\n",
    "                # get current split\n",
    "                dataset_left, dataset_right = self.__split(ds, feature_index, threshold)\n",
    "                if len(dataset_left) > 0 and len(dataset_right) > 0:\n",
    "                    y_data, left_y, right_y = ds.iloc[:, -1], dataset_left.iloc[:, -1], dataset_right.iloc[:, -1]\n",
    "                    # compute information gain\n",
    "                    curr_info_gain = self.__information_gain(y_data, left_y, right_y, \"gini\")\n",
    "                    # update the best split if needed\n",
    "                    if curr_info_gain > max_info_gain:\n",
    "                        best_split[\"feature_index\"] = feature_index\n",
    "                        best_split[\"threshold\"] = threshold\n",
    "                        best_split[\"dataset_left\"] = dataset_left\n",
    "                        best_split[\"dataset_right\"] = dataset_right\n",
    "                        best_split[\"info_gain\"] = curr_info_gain\n",
    "                        max_info_gain = curr_info_gain\n",
    "        return best_split\n",
    "\n",
    "    def __split(self, ds, feature_index, threshold):\n",
    "        left_data = ds.loc[(ds.iloc[:, feature_index] <= threshold)]\n",
    "        right_data = ds.loc[(ds.iloc[:, feature_index] > threshold)]\n",
    "        return left_data, right_data\n",
    "\n",
    "    def __information_gain(self, parent_dataset, left_dataset, right_dataset, mode=\"entropy\"):\n",
    "        l_weight = len(left_dataset) / len(parent_dataset)\n",
    "        r_weight = len(right_dataset) / len(parent_dataset)\n",
    "\n",
    "        gain = self.__gini_index(parent_dataset) - l_weight * self.__gini_index(left_dataset) - r_weight * self.__gini_index(\n",
    "            right_dataset)\n",
    "        return gain\n",
    "\n",
    "    def __gini_index(self, y_data):\n",
    "        class_labels = np.unique(y_data)\n",
    "        gini = 0\n",
    "        for cls in class_labels:\n",
    "            p_cls = len(y_data[y_data == cls]) / len(y_data)\n",
    "            gini += p_cls ** 2\n",
    "        return 1 - gini\n",
    "\n",
    "    def __calculate_leaf_node(self, y_data):\n",
    "        y_data = list(y_data)\n",
    "        return max(y_data, key=y_data.count)\n",
    "    def print_tree(self):\n",
    "        self.print_the_dt_tree(self.root)\n",
    "        \n",
    "    def print_the_dt_tree(self, tr=None, indent=\" \"):\n",
    "        \n",
    "        if tr is not None:\n",
    "            if tr.value is not None:\n",
    "                print(tr.value)\n",
    "            else:\n",
    "                print(\"X_\"+str(tr.feature_index), \"<=\", tr.threshold, \"?\", tr.info_gain)\n",
    "                print(\"%sleft:\" % (indent), end=\"\")\n",
    "                self.print_the_dt_tree(tr.left, indent + indent)\n",
    "                print(\"%sright:\" % (indent), end=\"\")\n",
    "                self.print_the_dt_tree(tr.right, indent + indent) \n",
    "\n",
    "    def fit(self, ds):\n",
    "        self.root = self.__build_tree(ds)\n",
    "\n",
    "    def single_predict(self, row):\n",
    "        return self.make_prediction(row, self.root)\n",
    "\n",
    "    def predict(self, x_data):\n",
    "\n",
    "        predictions = [self.make_prediction(row, self.root) for row in x_data.values]\n",
    "        return predictions\n",
    "\n",
    "    def make_prediction(self, row, tr):\n",
    "\n",
    "        if tr is not None and tr.value is not None:\n",
    "            # print(tree.value)\n",
    "            return tr.value\n",
    "        if tr is None:\n",
    "            return None\n",
    "        feature_val = row[tr.feature_index]\n",
    "        # print(str(feature_val)+\" --- \"+str(tree.feature_index))\n",
    "        if feature_val <= float(tr.threshold):\n",
    "            return self.make_prediction(row, tr.left)\n",
    "        else:\n",
    "            return self.make_prediction(row, tr.right)\n",
    "    def accuracy_score(self, y_pred, y_test):\n",
    "        count = 0\n",
    "        if len(y_test) != len(y_pred):\n",
    "            print(\"not same size\")\n",
    "            return\n",
    "\n",
    "        for i in range(len(y_test)):\n",
    "            if y_test[i] == y_pred[i]:\n",
    "                count += 1\n",
    "\n",
    "        print(count / len(y_test))\n"
   ]
  },
  {
   "cell_type": "code",
   "execution_count": 34,
   "metadata": {
    "collapsed": false,
    "jupyter": {
     "outputs_hidden": false
    },
    "pycharm": {
     "name": "#%%\n"
    }
   },
   "outputs": [
    {
     "name": "stdout",
     "output_type": "stream",
     "text": [
      "x2 1.9\n",
      "x2 4.8\n",
      "x0 4.9\n",
      "x3 1.7\n",
      "x2 4.9\n",
      "X_2 <= 1.9 ? 0.32716836734693866\n",
      " left:0\n",
      " right:X_2 <= 4.8 ? 0.37944250871080143\n",
      "  left:X_0 <= 4.9 ? 0.05551020408163265\n",
      "    left:2\n",
      "    right:1\n",
      "  right:X_3 <= 1.7 ? 0.09246196991586637\n",
      "    left:X_2 <= 4.9 ? 0.14693877551020418\n",
      "        left:1\n",
      "        right:2\n",
      "    right:2\n"
     ]
    }
   ],
   "source": [
    "#my classifier\n",
    "\n",
    "decisionTree = DecisionTreeClassifier(minimum_samples_split=3,max_depth=3)\n",
    "train_data =pd.concat((X_train,y_train),axis=1)\n",
    "decisionTree.fit(train_data)\n",
    "decisionTree.print_tree()\n"
   ]
  },
  {
   "cell_type": "code",
   "execution_count": 35,
   "metadata": {
    "collapsed": false,
    "jupyter": {
     "outputs_hidden": false
    },
    "pycharm": {
     "name": "#%%\n"
    }
   },
   "outputs": [
    {
     "name": "stdout",
     "output_type": "stream",
     "text": [
      "0.9210526315789473\n",
      "0.9210526315789473\n"
     ]
    },
    {
     "data": {
      "image/png": "[encoded data removed]",
      "text/plain": [
       "<Figure size 640x480 with 1 Axes>"
      ]
     },
     "metadata": {},
     "output_type": "display_data"
    }
   ],
   "source": [
    "y_pred = decisionTree.predict(X_test)\n",
    "\n",
    "from sklearn import tree\n",
    "dt = tree.DecisionTreeClassifier()\n",
    "dt.fit(X_train,y_train)\n",
    "y2_pred = dt.predict(X_test)\n",
    "\n",
    "tree.plot_tree(dt)\n",
    "\n",
    "decisionTree.accuracy_score(y_pred,y_test.values)\n",
    "decisionTree.accuracy_score(y2_pred,y_test.values)"
   ]
  },
  {
   "cell_type": "code",
   "execution_count": null,
   "metadata": {
    "collapsed": false,
    "jupyter": {
     "outputs_hidden": false
    },
    "pycharm": {
     "name": "#%%\n"
    }
   },
   "outputs": [],
   "source": []
  },
  {
   "cell_type": "code",
   "execution_count": null,
   "metadata": {
    "collapsed": false,
    "jupyter": {
     "outputs_hidden": false
    },
    "pycharm": {
     "name": "#%%\n"
    }
   },
   "outputs": [],
   "source": []
  }
 ],
 "metadata": {
  "kernelspec": {
   "display_name": "Python 3 (ipykernel)",
   "language": "python",
   "name": "python3"
  },
  "language_info": {
   "codemirror_mode": {
    "name": "ipython",
    "version": 3
   },
   "file_extension": ".py",
   "mimetype": "text/x-python",
   "name": "python",
   "nbconvert_exporter": "python",
   "pygments_lexer": "ipython3",
   "version": "3.12.1"
  }
 },
 "nbformat": 4,
 "nbformat_minor": 4
}